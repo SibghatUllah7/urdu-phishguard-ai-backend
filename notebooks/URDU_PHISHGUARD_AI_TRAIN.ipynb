{
 "cells": [
  {
   "cell_type": "markdown",
   "id": "83b4ac2d",
   "metadata": {},
   "source": [
    "# URDU_PHISHGUARD_AI_TRAIN\n",
    "\n",
    "**Developed by Sibghat Ullah**\n",
    "\n",
    "This notebook prepares and fine-tunes a multilingual BERT model for Urdu phishing message detection. It is Colab-ready and structured for GitHub and NCCS submission."
   ]
  },
  {
   "cell_type": "markdown",
   "id": "3510a8af",
   "metadata": {},
   "source": [
    "## 1) Setup Google Drive & Check GPU"
   ]
  },
  {
   "cell_type": "code",
   "execution_count": null,
   "id": "eb0d4da3",
   "metadata": {},
   "outputs": [],
   "source": [
    "from google.colab import drive\n",
    "drive.mount('/content/drive')\n",
    "\n",
    "PROJECT_DIR = '/content/drive/MyDrive/Urdu-PhishGuard-AI'\n",
    "import os\n",
    "os.makedirs(PROJECT_DIR, exist_ok=True)\n",
    "\n",
    "import torch\n",
    "print('Torch version:', torch.__version__)\n",
    "print('CUDA available:', torch.cuda.is_available())\n",
    "print('Device:', torch.cuda.get_device_name(0) if torch.cuda.is_available() else 'CPU')"
   ]
  },
  {
   "cell_type": "markdown",
   "id": "eeb25da1",
   "metadata": {},
   "source": [
    "## 2) Install Required Libraries"
   ]
  },
  {
   "cell_type": "code",
   "execution_count": null,
   "id": "af036fc4",
   "metadata": {},
   "outputs": [],
   "source": [
    "!pip install -q transformers datasets accelerate sentencepiece\n",
    "import torch\n",
    "print('Torch version:', torch.__version__)"
   ]
  },
  {
   "cell_type": "markdown",
   "id": "2c9a4ede",
   "metadata": {},
   "source": [
    "## 3) Load & Merge Dataset"
   ]
  },
  {
   "cell_type": "code",
   "execution_count": null,
   "id": "a870d7ee",
   "metadata": {},
   "outputs": [],
   "source": [
    "import pandas as pd, os\n",
    "\n",
    "DATA_DIR = os.path.join(PROJECT_DIR, 'data')\n",
    "os.makedirs(DATA_DIR, exist_ok=True)\n",
    "\n",
    "base_csv = os.path.join(DATA_DIR, 'phishing_samples_expanded.csv')\n",
    "extra_csv = os.path.join(DATA_DIR, 'extra_samples.csv')\n",
    "\n",
    "df_base = pd.read_csv(base_csv) if os.path.exists(base_csv) else pd.DataFrame({'text':[], 'label':[]})\n",
    "df_extra = pd.read_csv(extra_csv) if os.path.exists(extra_csv) else pd.DataFrame({'text':[], 'label':[]})\n",
    "\n",
    "df = pd.concat([df_base, df_extra], ignore_index=True).sample(frac=1, random_state=42).reset_index(drop=True)\n",
    "merged_csv = os.path.join(DATA_DIR, 'merged_training.csv')\n",
    "df.to_csv(merged_csv, index=False)\n",
    "\n",
    "print('Dataset merged. Total samples:', len(df))\n",
    "print(df['label'].value_counts())"
   ]
  },
  {
   "cell_type": "markdown",
   "id": "6ed8eed2",
   "metadata": {},
   "source": [
    "## 4) Quick Dataset Preview"
   ]
  },
  {
   "cell_type": "code",
   "execution_count": null,
   "id": "f51448ed",
   "metadata": {},
   "outputs": [],
   "source": [
    "df['text_length'] = df['text'].astype(str).apply(len)\n",
    "print(df['text_length'].describe())\n",
    "df.head()"
   ]
  },
  {
   "cell_type": "markdown",
   "id": "9086ee10",
   "metadata": {},
   "source": [
    "## 5) Tokenize and Prepare HuggingFace Dataset"
   ]
  },
  {
   "cell_type": "code",
   "execution_count": null,
   "id": "4093f317",
   "metadata": {},
   "outputs": [],
   "source": [
    "from datasets import Dataset\n",
    "from transformers import AutoTokenizer\n",
    "\n",
    "MODEL_NAME = 'bert-base-multilingual-cased'\n",
    "tokenizer = AutoTokenizer.from_pretrained(MODEL_NAME)\n",
    "\n",
    "label_map = {'SAFE':0, 'PHISHING':1}\n",
    "df['label_num'] = df['label'].map(label_map).fillna(0).astype(int)\n",
    "\n",
    "ds = Dataset.from_pandas(df[['text','label_num']].rename(columns={'label_num':'label'}))\n",
    "ds = ds.train_test_split(test_size=0.12, seed=42)\n",
    "\n",
    "def tokenize_fn(examples):\n",
    "    return tokenizer(examples['text'], truncation=True, padding='max_length', max_length=128)\n",
    "\n",
    "ds = ds.map(tokenize_fn, batched=True)\n",
    "ds = ds.rename_column('label','labels')\n",
    "ds.set_format(type='torch', columns=['input_ids','attention_mask','labels'])\n",
    "print('Tokenization complete.')"
   ]
  },
  {
   "cell_type": "markdown",
   "id": "efa37e13",
   "metadata": {},
   "source": [
    "## 6) Fine-tune BERT Model"
   ]
  },
  {
   "cell_type": "code",
   "execution_count": null,
   "id": "992b8a4e",
   "metadata": {},
   "outputs": [],
   "source": [
    "from transformers import AutoModelForSequenceClassification, TrainingArguments, Trainer\n",
    "import numpy as np\n",
    "\n",
    "model = AutoModelForSequenceClassification.from_pretrained(MODEL_NAME, num_labels=2)\n",
    "\n",
    "training_args = TrainingArguments(\n",
    "    output_dir=os.path.join(PROJECT_DIR, 'model_output'),\n",
    "    evaluation_strategy='epoch',\n",
    "    save_strategy='epoch',\n",
    "    per_device_train_batch_size=8,\n",
    "    per_device_eval_batch_size=16,\n",
    "    num_train_epochs=3,\n",
    "    learning_rate=2e-5,\n",
    "    weight_decay=0.01,\n",
    "    push_to_hub=False,\n",
    ")\n",
    "\n",
    "def compute_metrics(eval_pred):\n",
    "    logits, labels = eval_pred\n",
    "    preds = np.argmax(logits, axis=-1)\n",
    "    return {'accuracy': (preds == labels).mean()}\n",
    "\n",
    "trainer = Trainer(\n",
    "    model=model,\n",
    "    args=training_args,\n",
    "    train_dataset=ds['train'],\n",
    "    eval_dataset=ds['test'],\n",
    "    compute_metrics=compute_metrics\n",
    ")\n",
    "\n",
    "trainer.train()"
   ]
  },
  {
   "cell_type": "markdown",
   "id": "ad8eeb50",
   "metadata": {},
   "source": [
    "## 7) Export Trained Model"
   ]
  },
  {
   "cell_type": "code",
   "execution_count": null,
   "id": "a6d9e502",
   "metadata": {},
   "outputs": [],
   "source": [
    "export_dir = os.path.join(PROJECT_DIR, 'model')\n",
    "os.makedirs(export_dir, exist_ok=True)\n",
    "trainer.save_model(export_dir)\n",
    "tokenizer.save_pretrained(export_dir)\n",
    "print('Model exported to:', export_dir)"
   ]
  },
  {
   "cell_type": "markdown",
   "id": "b926fdf4",
   "metadata": {},
   "source": [
    "## 8) Quick Model Test"
   ]
  },
  {
   "cell_type": "code",
   "execution_count": null,
   "id": "a8b1fe09",
   "metadata": {},
   "outputs": [],
   "source": [
    "from transformers import pipeline\n",
    "\n",
    "pipe = pipeline('text-classification', model=export_dir, tokenizer=export_dir, device=0 if torch.cuda.is_available() else -1)\n",
    "\n",
    "test_samples = [\n",
    "    'Apka bank account block ho gaya hai, abhi verify karein',\n",
    "    'Meeting kal 10 bajay SID Labs mein hogi',\n",
    "    'Click here to win free balance now',\n",
    "    'Please visit https://uet.edu.pk for details',\n",
    "]\n",
    "\n",
    "for t in test_samples:\n",
    "    print(t, ' -> ', pipe(t)[0])"
   ]
  },
  {
   "cell_type": "markdown",
   "id": "f395b529",
   "metadata": {},
   "source": [
    "## ✅ Done — Model ready for Web App Deployment\n",
    "Copy the `model/` folder into your Flask app's `./model` directory."
   ]
  }
 ],
 "metadata": {
  "language_info": {
   "name": "python"
  }
 },
 "nbformat": 4,
 "nbformat_minor": 5
}
